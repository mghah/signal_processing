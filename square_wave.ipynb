{
 "cells": [
  {
   "cell_type": "code",
   "execution_count": 1,
   "metadata": {},
   "outputs": [
    {
     "name": "stdout",
     "output_type": "stream",
     "text": [
      "Populating the interactive namespace from numpy and matplotlib\n"
     ]
    }
   ],
   "source": [
    "# frequency spectrum of square wave for different rise/fall times\n",
    "import numpy as np\n",
    "import matplotlib.pyplot as plt\n",
    "from scipy import interpolate\n",
    "import ipywidgets as widgets\n",
    "%pylab inline\n",
    "\n",
    "def plot_sq_wave_fft(trf_pct):\n",
    "    \n",
    "    # trf is % of period that is rise/fall time\n",
    "    \n",
    "    F = 1.024    # sq wave freq, coherent sampling\n",
    "    Fs = 1000.001    # sampling freq, coherent sampling\n",
    "    \n",
    "    N = 30    # number of periods\n",
    "    T = 1/F   \n",
    "    Ts = 1/Fs\n",
    "    trf = trf_pct*T\n",
    "    t = [0, trf, .5*T, 0.5*T+trf, T]\n",
    "    x = [-1,1,1,-1,-1]\n",
    "    y = interpolate.interp1d(t,x)\n",
    "    time_unit = np.arange(0,T,Ts)\n",
    "    signal_unit = y(time_unit)\n",
    "    time = time_unit\n",
    "    signal = signal_unit\n",
    "    for i in np.arange(N-1):\n",
    "        time = np.concatenate( (time,time_unit+time[-1]) )\n",
    "        signal = np.concatenate( (signal,signal_unit) )\n",
    "    \n",
    "    sq_fft = np.fft.fft(signal)/len(signal)*2\n",
    "    sq_fft_freq = np.fft.fftfreq(len(signal),d=Ts)\n",
    "    \n",
    "    plt.figure()\n",
    "    plt.plot(time_unit,signal_unit)\n",
    "    plt.title( 'square wave with variable trise/fall time' )\n",
    "    plt.grid(which='major')\n",
    "    plt.grid(which='minor')\n",
    "    plt.xlabel( 'time(s)' )\n",
    "    plt.ylabel( 'amplitude(V)' )\n",
    "    \n",
    "    plt.figure(figsize=(10,10))\n",
    "    plt.plot( sq_fft_freq[:len(sq_fft)//128],abs(sq_fft[:len(sq_fft)//128]) , 'r')\n",
    "    plt.grid(which='major')\n",
    "    plt.grid(which='minor')\n",
    "    plt.title( 'FFT of square wave' )\n",
    "    plt.xlabel( 'Freq (Hz)' )\n",
    "    plt.ylabel ( 'fft magnitude' )\n",
    "    plt.show()\n"
   ]
  },
  {
   "cell_type": "code",
   "execution_count": 2,
   "metadata": {},
   "outputs": [
    {
     "data": {
      "application/vnd.jupyter.widget-view+json": {
       "model_id": "dd936a8ce0874adda37f1451c4309dce",
       "version_major": 2,
       "version_minor": 0
      },
      "text/plain": [
       "interactive(children=(FloatSlider(value=0.001, continuous_update=False, description='trf', max=0.5, min=0.001,…"
      ]
     },
     "metadata": {},
     "output_type": "display_data"
    },
    {
     "data": {
      "text/plain": [
       "<function __main__.plot_sq_wave_fft(trf_pct)>"
      ]
     },
     "execution_count": 2,
     "metadata": {},
     "output_type": "execute_result"
    }
   ],
   "source": [
    "widgets.interact(plot_sq_wave_fft, trf_pct=widgets.FloatSlider(description = 'trf', \n",
    "                                                               min=0.001, max=.5, step=0.001, value=.001, \n",
    "                                                               continuous_update = False))"
   ]
  }
 ],
 "metadata": {
  "kernelspec": {
   "display_name": "Python 3",
   "language": "python",
   "name": "python3"
  },
  "language_info": {
   "codemirror_mode": {
    "name": "ipython",
    "version": 3
   },
   "file_extension": ".py",
   "mimetype": "text/x-python",
   "name": "python",
   "nbconvert_exporter": "python",
   "pygments_lexer": "ipython3",
   "version": "3.7.1"
  }
 },
 "nbformat": 4,
 "nbformat_minor": 2
}
